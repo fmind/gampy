{
 "cells": [
  {
   "cell_type": "code",
   "execution_count": 1,
   "metadata": {},
   "outputs": [],
   "source": [
    "import pytest\n",
    "import ipytest\n",
    "\n",
    "from unittest.mock import Mock\n",
    "\n",
    "from gampy import advices"
   ]
  },
  {
   "cell_type": "code",
   "execution_count": 2,
   "metadata": {},
   "outputs": [],
   "source": [
    "div10 = lambda x: 10 / x\n",
    "\n",
    "gdict = lambda x: {0: 0, 1: 1}.get(x)"
   ]
  },
  {
   "cell_type": "code",
   "execution_count": 3,
   "metadata": {},
   "outputs": [],
   "source": [
    "def test_identical():\n",
    "    f = advices.identical()(div10)\n",
    "    \n",
    "    assert f(5) == 2\n",
    "    assert f(10) == 1\n",
    "    assert f == div10\n",
    "\n",
    "    with pytest.raises(ZeroDivisionError):\n",
    "        f(0)"
   ]
  },
  {
   "cell_type": "code",
   "execution_count": 4,
   "metadata": {},
   "outputs": [],
   "source": [
    "def test_cacheable():\n",
    "    mock = Mock(return_value=10)\n",
    "    f = advices.cacheable()(mock)\n",
    "\n",
    "    assert f(5) == 10\n",
    "    assert f(5) == 10\n",
    "    assert f(10) == 10\n",
    "    assert f(10) == 10\n",
    "    \n",
    "    assert mock.call_count == 2"
   ]
  },
  {
   "cell_type": "code",
   "execution_count": 5,
   "metadata": {},
   "outputs": [],
   "source": [
    "def test_constable():\n",
    "    f = advices.constable(9)(div10)\n",
    "    \n",
    "    assert f(0) == 9\n",
    "    assert f(5) == 9\n",
    "    assert f(10) == 9"
   ]
  },
  {
   "cell_type": "code",
   "execution_count": 6,
   "metadata": {},
   "outputs": [],
   "source": [
    "def test_flippable():\n",
    "    f = advices.flippable()(pow)\n",
    "    \n",
    "    assert f(2, 3) == 9\n",
    "    assert f(3, 2) == 8"
   ]
  },
  {
   "cell_type": "code",
   "execution_count": 24,
   "metadata": {},
   "outputs": [],
   "source": [
    "def test_fluentable():\n",
    "    f = advices.fluentable()(list.append)\n",
    "    g = advices.fluentable(9)(list.append)\n",
    "    \n",
    "    l = list()\n",
    "    f(f(f(l, 0), 1), 2)\n",
    "    assert l == [0, 1, 2]\n",
    "\n",
    "    l = list()\n",
    "    assert g(l, 1) is None"
   ]
  },
  {
   "cell_type": "code",
   "execution_count": 8,
   "metadata": {},
   "outputs": [],
   "source": [
    "def test_preable():\n",
    "    mock = Mock()\n",
    "    f = advices.preable(mock)(div10)\n",
    "    \n",
    "    assert mock.call_count == 0\n",
    "    assert f(5) == 2\n",
    "    assert f(10) == 1\n",
    "    assert mock.call_count == 2"
   ]
  },
  {
   "cell_type": "code",
   "execution_count": 9,
   "metadata": {},
   "outputs": [],
   "source": [
    "def test_postable():\n",
    "    mock = Mock()\n",
    "    f = advices.postable(mock)(div10)\n",
    "    \n",
    "    assert mock.call_count == 0\n",
    "    assert f(5) == 2\n",
    "    assert f(10) == 1\n",
    "    assert mock.call_count == 2"
   ]
  },
  {
   "cell_type": "code",
   "execution_count": 10,
   "metadata": {},
   "outputs": [],
   "source": [
    "def test_optional():\n",
    "    f = advices.optional(9)(gdict)\n",
    "    \n",
    "    assert f(0) == 0\n",
    "    assert f(5) == 9"
   ]
  },
  {
   "cell_type": "code",
   "execution_count": 18,
   "metadata": {},
   "outputs": [],
   "source": [
    "def test_retryable():\n",
    "    mock = Mock(side_effect=IndexError)\n",
    "    advice = advices.retryable()\n",
    "    f = advice(div10)\n",
    "    g = advice(mock)\n",
    "    \n",
    "    assert f(0) == None\n",
    "    assert f(5) == 2\n",
    "    \n",
    "    assert g(0) == None\n",
    "    assert g(5) == None\n",
    "    \n",
    "    assert mock.call_count == 6"
   ]
  },
  {
   "cell_type": "code",
   "execution_count": 12,
   "metadata": {},
   "outputs": [],
   "source": [
    "def test_exceptional():\n",
    "    f = advices.exceptional(9)(div10)\n",
    "    \n",
    "    assert f(0) == 9\n",
    "    assert f(5) == 2"
   ]
  },
  {
   "cell_type": "code",
   "execution_count": 28,
   "metadata": {},
   "outputs": [],
   "source": [
    "def test_loggable():\n",
    "    mock = Mock()\n",
    "    f = advices.loggable(mock, True, True)(int)\n",
    "    \n",
    "    assert f(0) == 0\n",
    "    assert f(1) == 1\n",
    "    \n",
    "    assert mock.call_args_list == [\n",
    "        ((\"enter: int\",), {}),\n",
    "        ((\"exit: int\",), {}),\n",
    "        ((\"enter: int\",), {}),\n",
    "        ((\"exit: int\",), {}),\n",
    "    ]\n",
    "    \n",
    "    mock = Mock()\n",
    "    f = advices.loggable(mock, False, False)(int)\n",
    "    \n",
    "    assert f(0) == 0\n",
    "    assert f(1) == 1\n",
    "    \n",
    "    assert not mock.call_args_list"
   ]
  },
  {
   "cell_type": "code",
   "execution_count": 30,
   "metadata": {},
   "outputs": [],
   "source": [
    "def test_traceable():\n",
    "    mock = Mock()\n",
    "    f = advices.traceable(mock, True, True)(int)\n",
    "    \n",
    "    assert f(0) == 0\n",
    "    assert f(1) == 1\n",
    "    \n",
    "    assert mock.call_args_list == [\n",
    "        ((\"[PRE] int(0)\",), {}),\n",
    "        ((\"[POST] int(0) -> 0\",), {}),\n",
    "        ((\"[PRE] int(1)\",), {}),\n",
    "        ((\"[POST] int(1) -> 1\",), {}),\n",
    "    ]\n",
    "    \n",
    "    mock = Mock()\n",
    "    f = advices.traceable(mock, False, False)(int)\n",
    "    \n",
    "    assert f(0) == 0\n",
    "    assert f(1) == 1\n",
    "    \n",
    "    assert not mock.call_args_list\n",
    "    \n",
    "test_traceable()"
   ]
  },
  {
   "cell_type": "code",
   "execution_count": 31,
   "metadata": {},
   "outputs": [
    {
     "name": "stderr",
     "output_type": "stream",
     "text": [
      "unittest.case.FunctionTestCase (test_cacheable) ... ok\n",
      "unittest.case.FunctionTestCase (test_constable) ... ok\n",
      "unittest.case.FunctionTestCase (test_exceptional) ... ok\n",
      "unittest.case.FunctionTestCase (test_flippable) ... ok\n",
      "unittest.case.FunctionTestCase (test_fluentable) ... ok\n",
      "unittest.case.FunctionTestCase (test_identical) ... ok\n",
      "unittest.case.FunctionTestCase (test_loggable) ... ok\n",
      "unittest.case.FunctionTestCase (test_optional) ... ok\n",
      "unittest.case.FunctionTestCase (test_postable) ... ok\n",
      "unittest.case.FunctionTestCase (test_preable) ... ok\n",
      "unittest.case.FunctionTestCase (test_retryable) ... ok\n",
      "unittest.case.FunctionTestCase (test_traceable) ... ok\n",
      "\n",
      "----------------------------------------------------------------------\n",
      "Ran 12 tests in 0.008s\n",
      "\n",
      "OK\n"
     ]
    }
   ],
   "source": [
    "ipytest.run_tests()"
   ]
  }
 ],
 "metadata": {
  "kernelspec": {
   "display_name": "Python 3",
   "language": "python",
   "name": "python3"
  },
  "language_info": {
   "codemirror_mode": {
    "name": "ipython",
    "version": 3
   },
   "file_extension": ".py",
   "mimetype": "text/x-python",
   "name": "python",
   "nbconvert_exporter": "python",
   "pygments_lexer": "ipython3",
   "version": "3.7.0"
  }
 },
 "nbformat": 4,
 "nbformat_minor": 2
}
