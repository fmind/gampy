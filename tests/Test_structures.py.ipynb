{
 "cells": [
  {
   "cell_type": "code",
   "execution_count": 1,
   "metadata": {},
   "outputs": [],
   "source": [
    "import pytest\n",
    "import ipytest\n",
    "\n",
    "from functools import reduce\n",
    "\n",
    "from gampy.structures import Pipeline\n",
    "from gampy.errors import DefinitionError, CompositionError"
   ]
  },
  {
   "cell_type": "code",
   "execution_count": 2,
   "metadata": {},
   "outputs": [],
   "source": [
    "def inc(x):\n",
    "    return x + 1\n",
    "\n",
    "def add(a, b):\n",
    "    return a + b\n",
    "\n",
    "def iseven(x):\n",
    "    return x % 2 == 0"
   ]
  },
  {
   "cell_type": "code",
   "execution_count": 3,
   "metadata": {},
   "outputs": [],
   "source": [
    "P00 = Pipeline([(map, [inc])])\n",
    "\n",
    "P01 = Pipeline([(filter, [iseven])])\n",
    "\n",
    "P02 = Pipeline([list])\n",
    "\n",
    "P0 = Pipeline([\n",
    "    (map, [inc], {}),\n",
    "    (filter, [iseven]),\n",
    "    (list,),\n",
    "])\n",
    "\n",
    "P1 = Pipeline([(reduce, [add])])"
   ]
  },
  {
   "cell_type": "code",
   "execution_count": 4,
   "metadata": {},
   "outputs": [],
   "source": [
    "def test_init():\n",
    "    assert Pipeline([map])\n",
    "    assert Pipeline([(map,)])\n",
    "    assert Pipeline([(map, [])])\n",
    "    assert Pipeline([(map, [], {})])\n",
    "    \n",
    "    with pytest.raises(DefinitionError) as err:\n",
    "        Pipeline([0])\n",
    "    assert str(err.value) == \"A step should be Callable or Iterable. Not: int.\"\n",
    "        \n",
    "    with pytest.raises(DefinitionError) as err:\n",
    "        Pipeline([()])\n",
    "    assert str(err.value) == \"A tuple step should contain 1, 2 or 3 items. Not: 0.\"\n",
    "        \n",
    "    with pytest.raises(DefinitionError) as err:\n",
    "        Pipeline([(map, [], {}, 0)])\n",
    "    assert str(err.value) == \"A tuple step should contain 1, 2 or 3 items. Not: 4.\"\n",
    "        \n",
    "    with pytest.raises(DefinitionError) as err:\n",
    "        Pipeline([(0, [], {})])\n",
    "    assert str(err.value) == \"The first step argument should be Callable. Not: int.\"\n",
    "        \n",
    "    with pytest.raises(DefinitionError) as err:\n",
    "        Pipeline([(map, 0, {})])\n",
    "    assert str(err.value) == \"The second step argument should be Iterable. Not: int.\"\n",
    "        \n",
    "    with pytest.raises(DefinitionError) as err:\n",
    "        Pipeline([(map, [], 0)])\n",
    "    assert str(err.value) == \"The third step argument should be Mapping. Not: int.\""
   ]
  },
  {
   "cell_type": "code",
   "execution_count": 5,
   "metadata": {},
   "outputs": [],
   "source": [
    "def test_hash():\n",
    "    assert hash(P0) != hash(P1)"
   ]
  },
  {
   "cell_type": "code",
   "execution_count": 6,
   "metadata": {},
   "outputs": [],
   "source": [
    "def test_getter():\n",
    "    assert P0.steps == [\n",
    "        (map, [inc], {}),\n",
    "        (filter, [iseven], {}),\n",
    "        (list, [], {}),\n",
    "    ]"
   ]
  },
  {
   "cell_type": "code",
   "execution_count": 7,
   "metadata": {},
   "outputs": [],
   "source": [
    "def test_setter():\n",
    "    p = Pipeline([])\n",
    "    p.steps = [(map, [inc])]\n",
    "    \n",
    "    assert p == P00"
   ]
  },
  {
   "cell_type": "code",
   "execution_count": 8,
   "metadata": {},
   "outputs": [],
   "source": [
    "def test_context():\n",
    "    pipeline = Pipeline([(range, [10])])\n",
    "    \n",
    "    with pipeline as p:\n",
    "        p.append((map, [inc]))\n",
    "        p.append((reduce, [add]))\n",
    "         \n",
    "    assert pipeline.steps == [\n",
    "        (range, [10], {}),\n",
    "        (map, [inc], {}),\n",
    "        (reduce, [add], {})\n",
    "    ]"
   ]
  },
  {
   "cell_type": "code",
   "execution_count": 9,
   "metadata": {},
   "outputs": [],
   "source": [
    "def test_or():\n",
    "    assert (P1 | list | set) == Pipeline([\n",
    "        (reduce, [add], {}),\n",
    "        (list, [], {}),\n",
    "        (set, [], {})\n",
    "    ])\n",
    "    \n",
    "test_or()"
   ]
  },
  {
   "cell_type": "code",
   "execution_count": 10,
   "metadata": {},
   "outputs": [],
   "source": [
    "def test_and():\n",
    "    assert P0 & P01 == P01"
   ]
  },
  {
   "cell_type": "code",
   "execution_count": 11,
   "metadata": {},
   "outputs": [],
   "source": [
    "def test_xor():\n",
    "    assert (P0 ^ P01) == (P00 + P02)"
   ]
  },
  {
   "cell_type": "code",
   "execution_count": 12,
   "metadata": {},
   "outputs": [],
   "source": [
    "def test_add():\n",
    "    assert P00 + P01 + P02 == P0"
   ]
  },
  {
   "cell_type": "code",
   "execution_count": 13,
   "metadata": {},
   "outputs": [],
   "source": [
    "def test_sub():\n",
    "    assert P0 - P01 == P00 + P02"
   ]
  },
  {
   "cell_type": "code",
   "execution_count": 14,
   "metadata": {},
   "outputs": [],
   "source": [
    "def test_mul():\n",
    "    assert P0 * 2 == Pipeline([\n",
    "        (map, [inc], {}),\n",
    "        (filter, [iseven], {}),\n",
    "        (list, [], {}),\n",
    "        (map, [inc], {}),\n",
    "        (filter, [iseven], {}),\n",
    "        (list, [], {}),\n",
    "    ])"
   ]
  },
  {
   "cell_type": "code",
   "execution_count": 15,
   "metadata": {},
   "outputs": [],
   "source": [
    "def test_matmul():\n",
    "    def advice(f):\n",
    "        def wrapped(*args, **kwargs):\n",
    "            return 10\n",
    "        return wrapped\n",
    "\n",
    "    p = P0 @ advice\n",
    "    f = p()\n",
    "    \n",
    "    assert f(0, k=1) == 10"
   ]
  },
  {
   "cell_type": "code",
   "execution_count": 16,
   "metadata": {},
   "outputs": [],
   "source": [
    "def test_truediv():\n",
    "    assert P0 / 2 == [P00 + P01, P02]"
   ]
  },
  {
   "cell_type": "code",
   "execution_count": 17,
   "metadata": {},
   "outputs": [],
   "source": [
    "def test_floordiv():\n",
    "    assert P0 // 2 == [P00 + P01]"
   ]
  },
  {
   "cell_type": "code",
   "execution_count": 18,
   "metadata": {},
   "outputs": [],
   "source": [
    "def test_mod():\n",
    "    assert P0 % P1 == P00 + P1 + P01 + P02"
   ]
  },
  {
   "cell_type": "code",
   "execution_count": 19,
   "metadata": {},
   "outputs": [],
   "source": [
    "def test_str():\n",
    "    assert str(P0) == \"map -> filter -> list\""
   ]
  },
  {
   "cell_type": "code",
   "execution_count": 20,
   "metadata": {},
   "outputs": [],
   "source": [
    "def test_repr():\n",
    "    assert repr(P02) == \"[(<class 'list'>, [], {})]\""
   ]
  },
  {
   "cell_type": "code",
   "execution_count": 21,
   "metadata": {},
   "outputs": [],
   "source": [
    "def test_bool():\n",
    "    assert P0 and P1\n",
    "    assert not Pipeline([])"
   ]
  },
  {
   "cell_type": "code",
   "execution_count": 22,
   "metadata": {},
   "outputs": [],
   "source": [
    "def test_call():\n",
    "    with pytest.raises(CompositionError) as err:\n",
    "        Pipeline([])()\n",
    "    assert str(err.value) == \"Cannot compose from an empty pipeline.\"\n",
    "    \n",
    "    assert P1()(range(10)) == 45\n",
    "    assert P0()(range(10)) == [2, 4, 6, 8, 10]"
   ]
  },
  {
   "cell_type": "code",
   "execution_count": 23,
   "metadata": {},
   "outputs": [],
   "source": [
    "def test_len():\n",
    "    assert len(P1) == 1\n",
    "    assert len(P0) == 3"
   ]
  },
  {
   "cell_type": "code",
   "execution_count": 24,
   "metadata": {},
   "outputs": [],
   "source": [
    "def test_iter():\n",
    "    assert list(iter(P0)) == P0.steps"
   ]
  },
  {
   "cell_type": "code",
   "execution_count": 25,
   "metadata": {},
   "outputs": [],
   "source": [
    "def test_getitem():\n",
    "    assert P0[0] == (map, [inc], {})\n",
    "    assert P0[1] == (filter, [iseven], {})\n",
    "    assert P0[2] == (list, [], {})\n",
    "    \n",
    "    with pytest.raises(IndexError):\n",
    "        P0[3]"
   ]
  },
  {
   "cell_type": "code",
   "execution_count": 26,
   "metadata": {},
   "outputs": [],
   "source": [
    "def test_contains():\n",
    "    assert (list, [], {}) in P0\n",
    "    assert (map, [inc], {}) in P0\n",
    "    assert (filter, [iseven], {}) in P0\n",
    "    \n",
    "    assert (reduce, [add]) not in P0"
   ]
  },
  {
   "cell_type": "code",
   "execution_count": 27,
   "metadata": {},
   "outputs": [],
   "source": [
    "def test_reversed():\n",
    "    assert reversed(P0).steps == [\n",
    "        (list, [], {}),\n",
    "        (filter, [iseven], {}),\n",
    "        (map, [inc], {}),\n",
    "    ]"
   ]
  },
  {
   "cell_type": "code",
   "execution_count": 28,
   "metadata": {},
   "outputs": [],
   "source": [
    "def test_lt():\n",
    "    assert not P0 < P1\n",
    "    assert P1 < P0\n",
    "    assert not P0 < P0"
   ]
  },
  {
   "cell_type": "code",
   "execution_count": 29,
   "metadata": {},
   "outputs": [],
   "source": [
    "def test_gt():\n",
    "    assert P0 > P1\n",
    "    assert not P1 > P0\n",
    "    assert not P0 > P0"
   ]
  },
  {
   "cell_type": "code",
   "execution_count": 30,
   "metadata": {},
   "outputs": [],
   "source": [
    "def test_le():\n",
    "    assert not P0 <= P1\n",
    "    assert P1 <= P0\n",
    "    assert P0 <= P0"
   ]
  },
  {
   "cell_type": "code",
   "execution_count": 31,
   "metadata": {},
   "outputs": [],
   "source": [
    "def test_ge():\n",
    "    assert P0 >= P1\n",
    "    assert not P1 >= P0\n",
    "    assert P0 >= P0"
   ]
  },
  {
   "cell_type": "code",
   "execution_count": 32,
   "metadata": {},
   "outputs": [],
   "source": [
    "def test_eq():\n",
    "    assert not P0 == P1\n",
    "    assert P0 == P0"
   ]
  },
  {
   "cell_type": "code",
   "execution_count": 33,
   "metadata": {},
   "outputs": [],
   "source": [
    "def test_ne():\n",
    "    assert P0 != P1\n",
    "    assert not P0 != P0"
   ]
  },
  {
   "cell_type": "code",
   "execution_count": 34,
   "metadata": {},
   "outputs": [],
   "source": [
    "def test_pow():\n",
    "    assert P0 ** P0\n",
    "    assert not P0 ** P1\n",
    "    assert P0 == Pipeline([map, filter, list])"
   ]
  },
  {
   "cell_type": "code",
   "execution_count": 35,
   "metadata": {},
   "outputs": [],
   "source": [
    "def test_lshift():\n",
    "    assert not P0 << P1\n",
    "    assert not P1 << P0\n",
    "    assert not P0 << P00\n",
    "    assert P00 << P0\n",
    "    assert P0 << P0"
   ]
  },
  {
   "cell_type": "code",
   "execution_count": 36,
   "metadata": {},
   "outputs": [],
   "source": [
    "def test_rshift():\n",
    "    assert not P0 >> P1\n",
    "    assert not P1 >> P0\n",
    "    assert P0 >> P00\n",
    "    assert not P00 >> P0\n",
    "    assert P0 >> P0"
   ]
  },
  {
   "cell_type": "code",
   "execution_count": 37,
   "metadata": {},
   "outputs": [
    {
     "name": "stderr",
     "output_type": "stream",
     "text": [
      "unittest.case.FunctionTestCase (test_add) ... ok\n",
      "unittest.case.FunctionTestCase (test_and) ... ok\n",
      "unittest.case.FunctionTestCase (test_bool) ... ok\n",
      "unittest.case.FunctionTestCase (test_call) ... ok\n",
      "unittest.case.FunctionTestCase (test_contains) ... ok\n",
      "unittest.case.FunctionTestCase (test_context) ... ok\n",
      "unittest.case.FunctionTestCase (test_eq) ... ok\n",
      "unittest.case.FunctionTestCase (test_floordiv) ... ok\n",
      "unittest.case.FunctionTestCase (test_ge) ... ok\n",
      "unittest.case.FunctionTestCase (test_getitem) ... ok\n",
      "unittest.case.FunctionTestCase (test_getter) ... ok\n",
      "unittest.case.FunctionTestCase (test_gt) ... ok\n",
      "unittest.case.FunctionTestCase (test_hash) ... ok\n",
      "unittest.case.FunctionTestCase (test_init) ... ok\n",
      "unittest.case.FunctionTestCase (test_iter) ... ok\n",
      "unittest.case.FunctionTestCase (test_le) ... ok\n",
      "unittest.case.FunctionTestCase (test_len) ... ok\n",
      "unittest.case.FunctionTestCase (test_lshift) ... ok\n",
      "unittest.case.FunctionTestCase (test_lt) ... ok\n",
      "unittest.case.FunctionTestCase (test_matmul) ... ok\n",
      "unittest.case.FunctionTestCase (test_mod) ... ok\n",
      "unittest.case.FunctionTestCase (test_mul) ... ok\n",
      "unittest.case.FunctionTestCase (test_ne) ... ok\n",
      "unittest.case.FunctionTestCase (test_or) ... ok\n",
      "unittest.case.FunctionTestCase (test_pow) ... ok\n",
      "unittest.case.FunctionTestCase (test_repr) ... ok\n",
      "unittest.case.FunctionTestCase (test_reversed) ... ok\n",
      "unittest.case.FunctionTestCase (test_rshift) ... ok\n",
      "unittest.case.FunctionTestCase (test_setter) ... ok\n",
      "unittest.case.FunctionTestCase (test_str) ... ok\n",
      "unittest.case.FunctionTestCase (test_sub) ... ok\n",
      "unittest.case.FunctionTestCase (test_truediv) ... ok\n",
      "unittest.case.FunctionTestCase (test_xor) ... ok\n",
      "\n",
      "----------------------------------------------------------------------\n",
      "Ran 33 tests in 0.015s\n",
      "\n",
      "OK\n"
     ]
    }
   ],
   "source": [
    "ipytest.run_tests()"
   ]
  }
 ],
 "metadata": {
  "kernelspec": {
   "display_name": "Python 3",
   "language": "python",
   "name": "python3"
  },
  "language_info": {
   "codemirror_mode": {
    "name": "ipython",
    "version": 3
   },
   "file_extension": ".py",
   "mimetype": "text/x-python",
   "name": "python",
   "nbconvert_exporter": "python",
   "pygments_lexer": "ipython3",
   "version": "3.7.0"
  }
 },
 "nbformat": 4,
 "nbformat_minor": 2
}
