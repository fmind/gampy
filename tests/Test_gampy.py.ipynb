{
 "cells": [
  {
   "cell_type": "code",
   "execution_count": 7,
   "metadata": {},
   "outputs": [],
   "source": [
    "import pytest\n",
    "import ipytest\n",
    "\n",
    "from gampy import Pipeline, advices"
   ]
  },
  {
   "cell_type": "code",
   "execution_count": 11,
   "metadata": {},
   "outputs": [],
   "source": [
    "def test_pipeline():\n",
    "    p = Pipeline([\n",
    "        (map, [lambda x: x ** 2], {}),\n",
    "        (filter, [lambda x: x > 2]),\n",
    "        (list,),\n",
    "        max\n",
    "    ])\n",
    "    \n",
    "    assert p()(range(10)) == 81"
   ]
  },
  {
   "cell_type": "code",
   "execution_count": 20,
   "metadata": {},
   "outputs": [],
   "source": [
    "def test_advices():\n",
    "    p = Pipeline([\n",
    "        (map, [lambda x: x ** 2], {}),\n",
    "        (filter, [lambda x: x > 2]),\n",
    "        lambda x: None,\n",
    "    ])\n",
    "    \n",
    "    p = p @ advices.optional([1, 2, 3])\n",
    "    \n",
    "    return p()(range(10)) == [1, 2, 3]"
   ]
  },
  {
   "cell_type": "code",
   "execution_count": 21,
   "metadata": {},
   "outputs": [
    {
     "name": "stderr",
     "output_type": "stream",
     "text": [
      "unittest.case.FunctionTestCase (test_advices) ... ok\n",
      "unittest.case.FunctionTestCase (test_pipeline) ... ok\n",
      "\n",
      "----------------------------------------------------------------------\n",
      "Ran 2 tests in 0.001s\n",
      "\n",
      "OK\n"
     ]
    }
   ],
   "source": [
    "ipytest.run_tests()"
   ]
  }
 ],
 "metadata": {
  "kernelspec": {
   "display_name": "Python 3",
   "language": "python",
   "name": "python3"
  },
  "language_info": {
   "codemirror_mode": {
    "name": "ipython",
    "version": 3
   },
   "file_extension": ".py",
   "mimetype": "text/x-python",
   "name": "python",
   "nbconvert_exporter": "python",
   "pygments_lexer": "ipython3",
   "version": "3.7.0"
  }
 },
 "nbformat": 4,
 "nbformat_minor": 2
}
