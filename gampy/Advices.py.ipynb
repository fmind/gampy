{
 "cells": [
  {
   "cell_type": "code",
   "execution_count": 8,
   "metadata": {},
   "outputs": [],
   "source": [
    "\"\"\"Advices of the project.\"\"\"\n",
    "\n",
    "import logging\n",
    "\n",
    "from typing import Any, Type, Callable\n",
    "\n",
    "from functools import wraps, lru_cache\n",
    "\n",
    "from gampy.structures import Advice"
   ]
  },
  {
   "cell_type": "code",
   "execution_count": null,
   "metadata": {},
   "outputs": [],
   "source": [
    "def identical() -> Advice:\n",
    "    \"\"\"Return f as is.\"\"\"\n",
    "\n",
    "    def advice(f):\n",
    "        return f\n",
    "\n",
    "    return advice"
   ]
  },
  {
   "cell_type": "code",
   "execution_count": 16,
   "metadata": {},
   "outputs": [],
   "source": [
    "def cacheable(n: int = 128, typed: bool = False) -> Advice:\n",
    "    \"\"\"Cache the n most recent results.\"\"\"\n",
    "    return lru_cache(n, typed)"
   ]
  },
  {
   "cell_type": "code",
   "execution_count": 3,
   "metadata": {},
   "outputs": [],
   "source": [
    "def constable(x: Any = None) -> Advice:\n",
    "    \"\"\"Return x constantly.\"\"\"\n",
    "\n",
    "    def advice(f):\n",
    "        @wraps(f)\n",
    "        def wrapped(*_, **__):\n",
    "            return x\n",
    "\n",
    "        return wrapped\n",
    "\n",
    "    return advice"
   ]
  },
  {
   "cell_type": "code",
   "execution_count": 2,
   "metadata": {},
   "outputs": [],
   "source": [
    "def flippable() -> Advice:\n",
    "    \"\"\"Flip f arguments.\"\"\"\n",
    "\n",
    "    def advice(f):\n",
    "        @wraps(f)\n",
    "        def wrapped(*args, **kwargs):\n",
    "            return f(*reversed(args), **kwargs)\n",
    "\n",
    "        return wrapped\n",
    "\n",
    "    return advice"
   ]
  },
  {
   "cell_type": "code",
   "execution_count": 4,
   "metadata": {},
   "outputs": [],
   "source": [
    "def fluentable(n: int = 0) -> Advice:\n",
    "    \"\"\"Return the nth argument of f.\"\"\"\n",
    "\n",
    "    def advice(f):\n",
    "        @wraps(f)\n",
    "        def wrapped(*args, **kwargs):\n",
    "            state = f(*args, **kwargs)\n",
    "\n",
    "            try:\n",
    "                return args[n]\n",
    "            except IndexError:\n",
    "                return state\n",
    "            \n",
    "        return wrapped\n",
    "\n",
    "    return advice"
   ]
  },
  {
   "cell_type": "code",
   "execution_count": null,
   "metadata": {},
   "outputs": [],
   "source": [
    "def preable(do: Callable[[], None]) -> Advice:\n",
    "    \"\"\"Call do before f.\"\"\"\n",
    "    \n",
    "    def advice(f):\n",
    "        @wraps(f)\n",
    "        def wrapped(*args, **kwargs):\n",
    "            do()\n",
    "\n",
    "            return f(*args, **kwargs)\n",
    "\n",
    "        return wrapped\n",
    "\n",
    "    return advice"
   ]
  },
  {
   "cell_type": "code",
   "execution_count": 6,
   "metadata": {},
   "outputs": [],
   "source": [
    "def postable(do: Callable[[], None]) -> Advice:\n",
    "    \"\"\"Call do after f.\"\"\"\n",
    "\n",
    "    def advice(f):\n",
    "        @wraps(f)\n",
    "        def wrapped(*args, **kwargs):\n",
    "            state = f(*args, **kwargs)\n",
    "            do()\n",
    "\n",
    "            return state\n",
    "\n",
    "        return wrapped\n",
    "\n",
    "    return advice"
   ]
  },
  {
   "cell_type": "code",
   "execution_count": 2,
   "metadata": {},
   "outputs": [],
   "source": [
    "def optional(x: Any) -> Advice:\n",
    "    \"\"\"Return x when f returns None.\"\"\"\n",
    "\n",
    "    def advice(f):\n",
    "        @wraps(f)\n",
    "        def wrapped(*args, **kwargs):\n",
    "            state = f(*args, **kwargs)\n",
    "\n",
    "            if state is None:\n",
    "                return x\n",
    "\n",
    "            return state\n",
    "\n",
    "        return wrapped\n",
    "\n",
    "    return advice"
   ]
  },
  {
   "cell_type": "code",
   "execution_count": null,
   "metadata": {},
   "outputs": [],
   "source": [
    "def retryable(d: Any = None, n: int = 3, on: Type[Exception] = Exception) -> Advice:\n",
    "    \"\"\"Retry f n times until success.\"\"\"\n",
    "    \n",
    "    def advice(f):\n",
    "        @wraps(f)\n",
    "        def wrapped(*args, **kwargs):\n",
    "            for _ in range(n):\n",
    "                try:\n",
    "                    return f(*args, **kwargs)\n",
    "                except on:\n",
    "                    pass\n",
    "            \n",
    "            return d\n",
    "        \n",
    "        return wrapped\n",
    "    \n",
    "    return advice"
   ]
  },
  {
   "cell_type": "code",
   "execution_count": 5,
   "metadata": {},
   "outputs": [],
   "source": [
    "def exceptional(x: Any = None, on: Type[Exception] = Exception) -> Advice:\n",
    "    \"\"\"Return x when f raises an exception.\"\"\"\n",
    "\n",
    "    def advice(f):\n",
    "        @wraps(f)\n",
    "        def wrapped(*args, **kwargs):\n",
    "            try:\n",
    "                return f(*args, **kwargs)\n",
    "            except on:\n",
    "                return x\n",
    "\n",
    "        return wrapped\n",
    "\n",
    "    return advice"
   ]
  },
  {
   "cell_type": "code",
   "execution_count": 4,
   "metadata": {},
   "outputs": [],
   "source": [
    "def loggable(logger: Callable[[str], None] = logging.info, pre: bool = True, post: bool = True) -> Advice:\n",
    "    \"\"\"Log f before and/or after call.\"\"\"\n",
    "\n",
    "    def advice(f):\n",
    "        @wraps(f)\n",
    "        def wrapped(*args, **kwargs):\n",
    "            if pre:\n",
    "                logger(\"enter: {}\".format(f.__name__))\n",
    "\n",
    "            state = f(*args, **kwargs)\n",
    "\n",
    "            if post:\n",
    "                logger(\"exit: {}\".format(f.__name__))\n",
    "\n",
    "            return state\n",
    "\n",
    "        return wrapped\n",
    "\n",
    "    return advice"
   ]
  },
  {
   "cell_type": "code",
   "execution_count": 7,
   "metadata": {},
   "outputs": [],
   "source": [
    "def traceable(printer: Callable[[str], None] = print, pre: bool = True, post: bool = False) -> Advice:\n",
    "    \"\"\"Print f trace before and/or after call.\"\"\"\n",
    "\n",
    "    def advice(f):\n",
    "        @wraps(f)\n",
    "        def wrapped(*args, **kwargs):\n",
    "            strf = f.__name__\n",
    "            strargs = [str(x) for x in args]\n",
    "            strkwargs = [\"{0}={1}\".format(k, v) for k, v in kwargs.items()]\n",
    "            inittrace = \"{0}({1})\".format(strf, \",\".join(strargs + strkwargs))\n",
    "\n",
    "            if pre:\n",
    "                printer(\"[PRE] {}\".format(inittrace))\n",
    "\n",
    "            state = f(*args, **kwargs)\n",
    "            exittrace = str(state)\n",
    "\n",
    "            if post:\n",
    "                printer(\"[POST] {} -> {}\".format(inittrace, exittrace))\n",
    "\n",
    "            return state\n",
    "\n",
    "        return wrapped\n",
    "\n",
    "    return advice"
   ]
  }
 ],
 "metadata": {
  "kernelspec": {
   "display_name": "Python 3",
   "language": "python",
   "name": "python3"
  },
  "language_info": {
   "codemirror_mode": {
    "name": "ipython",
    "version": 3
   },
   "file_extension": ".py",
   "mimetype": "text/x-python",
   "name": "python",
   "nbconvert_exporter": "python",
   "pygments_lexer": "ipython3",
   "version": "3.7.0"
  }
 },
 "nbformat": 4,
 "nbformat_minor": 2
}
