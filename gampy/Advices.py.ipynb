{
 "cells": [
  {
   "cell_type": "code",
   "execution_count": 5,
   "metadata": {},
   "outputs": [],
   "source": [
    "\"\"\"Advices of the project.\"\"\"\n",
    "\n",
    "#import logging\n",
    "\n",
    "#from functools import wraps, lru_cache"
   ]
  },
  {
   "cell_type": "code",
   "execution_count": null,
   "metadata": {},
   "outputs": [],
   "source": [
    "def identical():\n",
    "    \"\"\"Return f as is.\"\"\"\n",
    "\n",
    "    def advice(f):\n",
    "        return f\n",
    "\n",
    "    return advice"
   ]
  },
  {
   "cell_type": "code",
   "execution_count": null,
   "metadata": {},
   "outputs": [],
   "source": [
    "# def preable(do):\n",
    "#     \"\"\"Call do before f.\"\"\"\n",
    "    \n",
    "#     def advice(f):\n",
    "#         @wraps(f)\n",
    "#         def wrapped(*args, **kwargs):\n",
    "#             do()\n",
    "\n",
    "#             return f(*args, **kwargs)\n",
    "\n",
    "#         return wrapped\n",
    "\n",
    "#     return advice"
   ]
  },
  {
   "cell_type": "code",
   "execution_count": null,
   "metadata": {},
   "outputs": [],
   "source": [
    "# def postable(do):\n",
    "#     \"\"\"Call do after f.\"\"\"\n",
    "\n",
    "#     def advice(f):\n",
    "#         @wraps(f)\n",
    "#         def wrapped(*args, **kwargs):\n",
    "#             state = f(*args, **kwargs)\n",
    "#             do()\n",
    "\n",
    "#             return state\n",
    "\n",
    "#         return wrapped\n",
    "\n",
    "#     return advice"
   ]
  },
  {
   "cell_type": "code",
   "execution_count": 4,
   "metadata": {},
   "outputs": [],
   "source": []
  },
  {
   "cell_type": "code",
   "execution_count": 5,
   "metadata": {},
   "outputs": [],
   "source": [
    "# def optional(x=None):\n",
    "#     \"\"\"Return x when f return None.\"\"\"\n",
    "\n",
    "#     def advice(f):\n",
    "#         @wraps(f)\n",
    "#         def wrapped(*args, **kwargs):\n",
    "#             state = f(*args, **kwargs)\n",
    "\n",
    "#             if state is None:\n",
    "#                 return x\n",
    "\n",
    "#             return state\n",
    "\n",
    "#         return wrapped\n",
    "\n",
    "#     return advice"
   ]
  },
  {
   "cell_type": "code",
   "execution_count": 7,
   "metadata": {},
   "outputs": [],
   "source": [
    "# def exceptional(x=None, on=Exception):\n",
    "#     \"\"\"Return x when f raises an exception.\"\"\"\n",
    "\n",
    "#     def advice(f):\n",
    "#         @wraps(f)\n",
    "#         def wrapped(*args, **kwargs):\n",
    "#             try:\n",
    "#                 return f(*args, **kwargs)\n",
    "#             except on:\n",
    "#                 return x\n",
    "\n",
    "#         return wrapped\n",
    "\n",
    "#     return advice"
   ]
  },
  {
   "cell_type": "code",
   "execution_count": 15,
   "metadata": {},
   "outputs": [],
   "source": [
    "# def loggable(pre=True, post=False, level=logging.DEBUG):\n",
    "#     \"\"\"Log f before and/or after call.\"\"\"\n",
    "\n",
    "#     def advice(f):\n",
    "#         @wraps(f)\n",
    "#         def wrapped(*args, **kwargs):\n",
    "#             strf = f.__name__\n",
    "\n",
    "#             if pre:\n",
    "#                 logging.log(level, \"enter: %s\", strf)\n",
    "\n",
    "#             state = f(*args, **kwargs)\n",
    "\n",
    "#             if post:\n",
    "#                 logging.log(level, \"exit: %s\", strf)\n",
    "\n",
    "#             return state\n",
    "\n",
    "#         return wrapped\n",
    "\n",
    "#     return advice"
   ]
  },
  {
   "cell_type": "code",
   "execution_count": 9,
   "metadata": {},
   "outputs": [],
   "source": [
    "# def traceable(pre=True, post=False):\n",
    "#     \"\"\"Print f trace before and/or after call.\"\"\"\n",
    "\n",
    "#     def advice(f):\n",
    "#         @wraps(f)\n",
    "#         def wrapped(*args, **kwargs):\n",
    "#             strf = f.__name__\n",
    "#             strargs = [str(x) for x in args]\n",
    "#             strkwargs = [\"{0}={1}\".format(k, v) for k, v in kwargs.items()]\n",
    "#             inittrace = \"{0}({1})\".format(strf, \",\".join(strargs + strkwargs))\n",
    "\n",
    "#             if pre:\n",
    "#                 print(\"[PRE] {}\".format(inittrace))\n",
    "\n",
    "#             state = f(*args, **kwargs)\n",
    "\n",
    "#             if post:\n",
    "#                 exittrace = str(state)\n",
    "#                 print(\"[POST] {} -> {}\".format(inittrace, exittrace))\n",
    "\n",
    "#             return state\n",
    "\n",
    "#         return wrapped\n",
    "\n",
    "#     return advice"
   ]
  },
  {
   "cell_type": "code",
   "execution_count": 16,
   "metadata": {},
   "outputs": [],
   "source": [
    "# def cacheable(maxsize=128, typed=False):\n",
    "#     \"\"\"Cache the most recent function results.\"\"\"\n",
    "#     return lru_cache(maxsize, typed)"
   ]
  },
  {
   "cell_type": "code",
   "execution_count": 2,
   "metadata": {},
   "outputs": [],
   "source": [
    "# def flippable():\n",
    "#     \"\"\"Flip f arguments.\"\"\"\n",
    "\n",
    "#     def advice(f):\n",
    "#         @wraps(f)\n",
    "#         def wrapped(*args, **kwargs):\n",
    "#             return f(*reversed(args), **kwargs)\n",
    "\n",
    "#         return wrapped\n",
    "\n",
    "#     return advice"
   ]
  },
  {
   "cell_type": "code",
   "execution_count": 3,
   "metadata": {},
   "outputs": [],
   "source": [
    "# def constable(x=None):\n",
    "#     \"\"\"Return x constantly.\"\"\"\n",
    "\n",
    "#     def advice(f):\n",
    "#         @wraps(f)\n",
    "#         def wrapped(*args, **kwargs):\n",
    "#             f(*args, **kwargs)\n",
    "\n",
    "#             return x\n",
    "\n",
    "#         return wrapped\n",
    "\n",
    "#     return advice"
   ]
  },
  {
   "cell_type": "code",
   "execution_count": 4,
   "metadata": {},
   "outputs": [],
   "source": [
    "# def fluentable(n=1):\n",
    "#     \"\"\"Return the n argument after f.\"\"\"\n",
    "\n",
    "#     def advice(f):\n",
    "#         @wraps(f)\n",
    "#         def wrapped(*args, **kwargs):\n",
    "#             f(*args, **kwargs)\n",
    "\n",
    "#             if len(args) >= n:\n",
    "#                 return args[n]\n",
    "            \n",
    "#             return None\n",
    "\n",
    "#         return wrapped\n",
    "\n",
    "#     return advice"
   ]
  }
 ],
 "metadata": {
  "kernelspec": {
   "display_name": "Python 3",
   "language": "python",
   "name": "python3"
  },
  "language_info": {
   "codemirror_mode": {
    "name": "ipython",
    "version": 3
   },
   "file_extension": ".py",
   "mimetype": "text/x-python",
   "name": "python",
   "nbconvert_exporter": "python",
   "pygments_lexer": "ipython3",
   "version": "3.7.0"
  }
 },
 "nbformat": 4,
 "nbformat_minor": 2
}
