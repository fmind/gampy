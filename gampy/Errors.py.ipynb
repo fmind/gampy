{
 "cells": [
  {
   "cell_type": "code",
   "execution_count": null,
   "metadata": {},
   "outputs": [],
   "source": [
    "class Error(Exception):\n",
    "    \"\"\"Base class for errors.\"\"\"\n",
    "    pass\n",
    "\n",
    "\n",
    "class ExecutionError(Error):\n",
    "    \"\"\"Error of program execution.\"\"\"\n",
    "    pass\n",
    "\n",
    "\n",
    "class DefinitionError(Error):\n",
    "    \"\"\"Error of program definition.\"\"\"\n",
    "    pass"
   ]
  }
 ],
 "metadata": {
  "kernelspec": {
   "display_name": "Python 3",
   "language": "python",
   "name": "python3"
  },
  "language_info": {
   "codemirror_mode": {
    "name": "ipython",
    "version": 3
   },
   "file_extension": ".py",
   "mimetype": "text/x-python",
   "name": "python",
   "nbconvert_exporter": "python",
   "pygments_lexer": "ipython3",
   "version": "3.7.0"
  }
 },
 "nbformat": 4,
 "nbformat_minor": 2
}
